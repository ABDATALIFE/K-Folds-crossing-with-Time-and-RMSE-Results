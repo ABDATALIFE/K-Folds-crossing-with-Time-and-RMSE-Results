{
 "cells": [
  {
   "cell_type": "code",
   "execution_count": 1,
   "id": "880d6df2",
   "metadata": {},
   "outputs": [],
   "source": [
    "import numpy as np\n",
    "from sklearn.datasets import load_diabetes\n",
    "from sklearn.kernel_ridge import KernelRidge\n",
    "from sklearn.tree import DecisionTreeRegressor\n",
    "from sklearn import preprocessing\n",
    "import pandas as pd\n",
    "import copy\n",
    "import matplotlib.pyplot as plt\n",
    "import time "
   ]
  },
  {
   "cell_type": "markdown",
   "id": "824d996d",
   "metadata": {},
   "source": [
    "# k-fold cross validation\n",
    "\n",
    "\n",
    "In this notebook you will use K-fold cross validation to compare two regression models. The two models are Kernel Ridge Regression and Regression Decision Trees. You don't need to understand how these two models work for now and can just use the provided fit_and_predict functions to get predictions for each of the models. \n",
    "\n",
    "The aim of this notebook is to practice K-fold cross validation. It is split into 5 parts:\n",
    "1. Create a function to split the data into k folds \n",
    "2. Performance Metric - create a function to calculate RMSE\n",
    "3. Create a function to run cross validation on the k-folds\n",
    "4. Run cross validation for k={2, ..., 100}, timing each one \n",
    "5. Answer the questions in a markdown cell \n",
    "\n",
    "**NOTE: Make sure you restart the kernel and re-run the notebook just before you submit it so your answers are consistant. All the packages you need are already imported into the notebook, you should not use the sklearn k-fold cross validation functions.**\n",
    "\n"
   ]
  },
  {
   "cell_type": "markdown",
   "id": "0576c905",
   "metadata": {},
   "source": [
    "## Data\n",
    "\n",
    "We will use a sklearn toy dataset. The input values for this dataset are ten baseline variables measured in diabetes patients and the output is a quantitative measure of disease progression one year later. You can read more about the data [here](https://scikit-learn.org/stable/datasets/toy_dataset.html#diabetes-dataset)."
   ]
  },
  {
   "cell_type": "code",
   "execution_count": 2,
   "id": "d801d79b",
   "metadata": {},
   "outputs": [
    {
     "name": "stdout",
     "output_type": "stream",
     "text": [
      "(300, 1)\n",
      "        x_0       x_1       x_2       x_3       x_4       x_5       x_6  \\\n",
      "0  0.800500  1.065488  1.297088  0.459840 -0.929746 -0.732065 -0.912451   \n",
      "1 -0.039567 -0.938537 -1.082180 -0.553511 -0.177624 -0.402886  1.564414   \n",
      "2  1.793307  1.065488  0.934533 -0.119218 -0.958674 -0.718897 -0.680245   \n",
      "3 -1.872441 -0.938537 -0.243771 -0.770658  0.256292  0.525397 -0.757647   \n",
      "4  0.113172 -0.938537 -0.764944  0.459840  0.082726  0.327890  0.171178   \n",
      "\n",
      "        x_7       x_8       x_9         y  \n",
      "0 -0.054499  0.418551 -0.370989 -0.014719  \n",
      "1 -0.830301 -1.436551 -1.938479 -1.001659  \n",
      "2 -0.054499  0.060207 -0.545154 -0.144580  \n",
      "3  0.721302  0.477072 -0.196823  0.699513  \n",
      "4 -0.054499 -0.672582 -0.980568 -0.222496  \n"
     ]
    }
   ],
   "source": [
    "# Do not edit this cell \n",
    "\n",
    "X_, y_ = load_diabetes(return_X_y=True)\n",
    "\n",
    "# standardise the data to help us fit the data (this will be covered later in the course)\n",
    "\n",
    "scaler = preprocessing.StandardScaler().fit(X_)\n",
    "X = scaler.transform(X_)[:300, :]\n",
    "\n",
    "scaler_y = preprocessing.StandardScaler().fit(y_.reshape(-1, 1))\n",
    "y = scaler_y.transform(y_.reshape(-1, 1))[:300, :]\n",
    "print(y.shape)\n",
    "\n",
    "# to ensure the data stays in the correct order, we will work with dataframes \n",
    "\n",
    "columns = [f'x_{i}' for i in range(X.shape[1])] + ['y']\n",
    "x_columns = [f'x_{i}' for i in range(X.shape[1])]\n",
    "data = pd.DataFrame(data= np.concatenate([X, y.reshape(-1, 1)], axis=1), columns=columns)\n",
    "print(data.head())"
   ]
  },
  {
   "cell_type": "code",
   "execution_count": 8,
   "id": "3d2c61cc",
   "metadata": {},
   "outputs": [],
   "source": [
    "# Do not edit \n",
    "\n",
    "def fit_and_predict_KRR(train, validate):\n",
    "    \"\"\"fit a Kernel Ridge Regression Model on the training data and predict the y values of the validation X data.\n",
    "    :param train: pandas dataframe containing the training data\n",
    "    :param validate: pandas dataframe containing the validation data \n",
    "    :return: predictions at the validation X points Mx1 numpy array\"\"\"\n",
    "    X_train = train[x_columns].to_numpy()\n",
    "    y_train = train['y'].to_numpy()\n",
    "    X_val = validate[x_columns].to_numpy()\n",
    "        \n",
    "    KRR = KernelRidge(alpha=0.1, kernel='rbf', gamma=0.2,  degree=100)\n",
    "    KRR.fit(X_train, y_train)\n",
    "    return KRR.predict(X_val)\n",
    "    \n",
    "    \n",
    "def fit_and_predict_DT(train, validate):\n",
    "    \"\"\"fit a Regression Decision Tree on the training data and predict the y values of the validation X data.\n",
    "    :param train: pandas dataframe containing the training data\n",
    "    :param validate: pandas dataframe containing the validation data \n",
    "    :return: predictions at the validation X points Mx1 numpy array\"\"\"\n",
    "    \n",
    "    X_train = train[x_columns].to_numpy()\n",
    "    y_train = train['y'].to_numpy()\n",
    "    X_val = validate[x_columns].to_numpy()\n",
    "        \n",
    "    DTree = DecisionTreeRegressor(max_depth=6)\n",
    "    DTree.fit(X_train, y_train)\n",
    "    return DTree.predict(X_val)\n"
   ]
  },
  {
   "cell_type": "markdown",
   "id": "5a77092a",
   "metadata": {},
   "source": [
    "## Part 1 : Creating the folds\n",
    "\n",
    "### TO DO:\n",
    "\n",
    "Complete the gaps to crete a function that split the data into k folds. \n",
    "\n",
    "**2 MARKS**"
   ]
  },
  {
   "cell_type": "code",
   "execution_count": 9,
   "id": "8855e2b5",
   "metadata": {},
   "outputs": [],
   "source": [
    "\n",
    "def k_folds(data, k):\n",
    "    \"\"\"function that returns a list of k folds of the data. The returned value should be a list of dataframes\"\"\"\n",
    "    \n",
    "    ############################\n",
    "    # FILL YOUR ANSWERS HERE. Create list of how long each fold should be. The folds should be as even as possible in number, but some may\n",
    "    # need to have an extra data point if the total number of data points isn't divisible by n\n",
    "    num_samples = len(data)\n",
    "    fold_size = num_samples // k\n",
    "    remainder = num_samples % k\n",
    "    \n",
    "    len_folds = [fold_size] * k\n",
    "    for i in range(remainder):\n",
    "        len_folds[i] += 1\n",
    "    \n",
    "    ############################\n",
    "\n",
    "    folds = []\n",
    "    for i in range(k):\n",
    "        data_ss = data.sample(n=len_folds[i], random_state=20)\n",
    "        data = data.drop(data_ss.index)\n",
    "        folds.append(data_ss)\n",
    "\n",
    "    return folds "
   ]
  },
  {
   "cell_type": "code",
   "execution_count": 10,
   "id": "977546af",
   "metadata": {},
   "outputs": [
    {
     "data": {
      "text/plain": [
       "(5, 60, 11)"
      ]
     },
     "execution_count": 10,
     "metadata": {},
     "output_type": "execute_result"
    }
   ],
   "source": [
    "folds = k_folds(data,5)\n",
    "np.shape(folds)"
   ]
  },
  {
   "cell_type": "markdown",
   "id": "3da640be",
   "metadata": {},
   "source": [
    "## Part 2:  Performance Metric\n",
    "\n",
    "### TO DO:\n",
    "Write a function that calculates the root mean squared error between predictions and the true y values. Both inputs should be numpy arrays and the function should return a float. \n",
    "\n",
    "**1 MARK**"
   ]
  },
  {
   "cell_type": "code",
   "execution_count": 11,
   "id": "c9fea12c",
   "metadata": {},
   "outputs": [],
   "source": [
    "############################\n",
    "# Write function to calculate RMSE\n",
    "\n",
    "def calculate_rmse(predictions, true_values):\n",
    "    \"\"\"Calculate the root mean squared error (RMSE) between predictions and true y values.\n",
    "    \n",
    "    :param predictions: numpy array of predicted y values.\n",
    "    :param true_values: numpy array of true y values.\n",
    "    :return: float representing the RMSE.\n",
    "    \"\"\"\n",
    "    mse = np.mean((predictions - true_values) ** 2)\n",
    "    rmse = np.sqrt(mse)\n",
    "    return rmse\n",
    "\n",
    "    \n",
    "############################"
   ]
  },
  {
   "cell_type": "markdown",
   "id": "3127862b",
   "metadata": {},
   "source": [
    "## Part 3: Cross Valiation\n",
    "\n",
    "### TO DO:\n",
    "\n",
    "Create a function to run the cross validation on both the models by filling out the gaps in the function below. This function will return the average RMSE for each of the models. \n",
    "\n",
    "**6 MARKS**\n"
   ]
  },
  {
   "cell_type": "code",
   "execution_count": 12,
   "id": "896eb1d5",
   "metadata": {},
   "outputs": [],
   "source": [
    "from sklearn.model_selection import train_test_split\n",
    "def cross_validation(folds):\n",
    "    \"\"\"function that runs cross validation on k folds and returns the RMSE for each model\"\"\"\n",
    "    folds = copy.copy(folds) # this creates a new variable which is a copy of folds\n",
    "\n",
    "    rmses_KRR = []  # list to collect the rmses for each fold for the Kernel Ridge Regression\n",
    "    rmses_DT = []   # list to collect the rmses for each fold for the Decision Tree\n",
    "    for i, fold in enumerate(folds):\n",
    "        \n",
    "        ############################\n",
    "        # Write code to create the training and validation sets as DataFrames\n",
    "        \n",
    "        train_data, val_data = train_test_split(fold, test_size=0.20, random_state=1)\n",
    "        \n",
    "        ############################\n",
    "        \n",
    "        ############################\n",
    "        # Use the fit_and_predict functions to create new columns in the validation set for the predictions \n",
    "        # for each model with headings ['KRR_predictions', 'DT_predictions'].\n",
    "        \n",
    "        KRR_Predictions = fit_and_predict_KRR(train_data,val_data)\n",
    "        DT_Predictions = fit_and_predict_DT(train_data,val_data)\n",
    "        \n",
    "        \n",
    "        ############################\n",
    "        \n",
    "        ############################\n",
    "        # calculate the rmse for the two models and append to rmses_KRR and rmses_DT\n",
    "        rmses_KRR.append(calculate_rmse(KRR_Predictions,val_data['y'].to_numpy()))\n",
    "        rmses_DT.append(calculate_rmse(DT_Predictions,val_data['y'].to_numpy()))\n",
    "       \n",
    "        \n",
    "        ############################\n",
    "\n",
    "    RMSE_KRR = np.mean(rmses_KRR) # calculate the average RMSEs for kernel ridge regression\n",
    "    RMSE_DT = np.mean(rmses_DT)# calculate the average RMSEs for the decision tree \n",
    "    return RMSE_KRR, RMSE_DT\n"
   ]
  },
  {
   "cell_type": "markdown",
   "id": "3b0461fd",
   "metadata": {},
   "source": [
    "### TO DO: \n",
    "Use your functions to calculate the RMSE for each model for k=100 and print the solutions \n",
    "\n",
    "**2 MARKS**"
   ]
  },
  {
   "cell_type": "code",
   "execution_count": 13,
   "id": "90abea7c",
   "metadata": {},
   "outputs": [],
   "source": [
    "############################\n",
    "# calculate RMSE for each model for k=100\n",
    "\n",
    "\n",
    "\n",
    "RMSE_KRR, RMSE_DT=cross_validation(k_folds(data,100))\n",
    "\n",
    "############################"
   ]
  },
  {
   "cell_type": "markdown",
   "id": "6f749dfb",
   "metadata": {},
   "source": [
    "## Part 4: Cross Validation for Different Values of k\n",
    "\n",
    "### TO DO:\n",
    "\n",
    "for k in {2, ..., 100} divide the data into k folds and then run cross validation. Save the results for each run in two lists (one for each model) and then plot a graph of k on the x-axis and RMSE on the y_axis. \n",
    "\n",
    "Use the time function (example in cell below) to time how long the cross validation takes for each value of k. Make a plot of the time against the value of k. \n",
    "\n",
    "**6 MARKS**"
   ]
  },
  {
   "cell_type": "code",
   "execution_count": 14,
   "id": "4136f2e8",
   "metadata": {
    "scrolled": true
   },
   "outputs": [
    {
     "name": "stdout",
     "output_type": "stream",
     "text": [
      "hello\n",
      "0.0\n"
     ]
    }
   ],
   "source": [
    "# time function example\n",
    "\n",
    "start = time.time()\n",
    "print('hello')\n",
    "end = time.time()\n",
    "time_elapsed = end - start\n",
    "print(time_elapsed)"
   ]
  },
  {
   "cell_type": "code",
   "execution_count": 15,
   "id": "ad55cb86",
   "metadata": {
    "scrolled": true
   },
   "outputs": [],
   "source": [
    "############################\n",
    "# for k in {2, ..., 100} divide the data into k folds and then run cross validation. time it and plot results. \n",
    "KRR_RMSE_FOLDS ={}\n",
    "DT_RMSE_FOLDS ={}\n",
    "TIME_FOLDS = {}\n",
    "for k in range(2,101):\n",
    "    start = time.time()\n",
    "    RMSE_KRR, RMSE_DT=cross_validation(k_folds(data,k))\n",
    "    end = time.time()\n",
    "    time_elapsed = end - start\n",
    "    TIME_FOLDS[k] = time_elapsed\n",
    "    KRR_RMSE_FOLDS[k] = RMSE_KRR \n",
    "    DT_RMSE_FOLDS[k]  = RMSE_DT    \n",
    "        \n",
    "############################'"
   ]
  },
  {
   "cell_type": "code",
   "execution_count": 16,
   "id": "2fa81567",
   "metadata": {},
   "outputs": [
    {
     "data": {
      "image/png": "[encoded data removed]",
      "text/plain": [
       "<Figure size 432x288 with 1 Axes>"
      ]
     },
     "metadata": {
      "needs_background": "light"
     },
     "output_type": "display_data"
    }
   ],
   "source": [
    "plt.plot(range(2,101),KRR_RMSE_FOLDS.values(), label='KRR Model')\n",
    "plt.plot(range(2,101),DT_RMSE_FOLDS.values(), label='DT_Model')\n",
    "plt.xlabel('No.of Folds')\n",
    "plt.ylabel('RMSE')\n",
    "plt.legend()\n",
    "plt.show()"
   ]
  },
  {
   "cell_type": "code",
   "execution_count": 17,
   "id": "ee58b4bf",
   "metadata": {},
   "outputs": [
    {
     "data": {
      "image/png": "[encoded data removed]",
      "text/plain": [
       "<Figure size 432x288 with 1 Axes>"
      ]
     },
     "metadata": {
      "needs_background": "light"
     },
     "output_type": "display_data"
    }
   ],
   "source": [
    "plt.plot(range(2,101),TIME_FOLDS.values(), label='Time Taken')\n",
    "plt.xlabel('No.of Folds')\n",
    "plt.ylabel('Time (Seconds)')\n",
    "plt.legend()\n",
    "plt.show()"
   ]
  },
  {
   "cell_type": "markdown",
   "id": "9e2cf2f8",
   "metadata": {},
   "source": [
    "## Part 5 : Questions\n",
    "\n",
    "### TO DO:\n",
    "Answer the following questions in a markdown cell\n",
    "\n",
    "1. Which model would you select based on your cross validation results? Why? \n",
    "2. Looking at the two plots you made, what are the benefits and drawbacks of increasing k? \n",
    "\n",
    "**2 MARKS**"
   ]
  },
  {
   "cell_type": "markdown",
   "id": "882ef61e",
   "metadata": {},
   "source": [
    "### WRITE YOUR ANSWERS HERE:\n",
    "\n",
    "1. The model that I would select is the Kernel Ridge Regression Model as it has the least RMSE when compared to the DT Model. The number of K-folds I will choose is 38 as it shows the least RMSE when compared to other folds.\n",
    "2. The drawbacks of increasing the number of folds is that it increases the time taken for computation and hence the computation cost. The benefits include a more representative data that is well suited to unknown data as it has higher representability."
   ]
  }
 ],
 "metadata": {
  "kernelspec": {
   "display_name": "Python 3 (ipykernel)",
   "language": "python",
   "name": "python3"
  },
  "language_info": {
   "codemirror_mode": {
    "name": "ipython",
    "version": 3
   },
   "file_extension": ".py",
   "mimetype": "text/x-python",
   "name": "python",
   "nbconvert_exporter": "python",
   "pygments_lexer": "ipython3",
   "version": "3.9.12"
  }
 },
 "nbformat": 4,
 "nbformat_minor": 5
}
